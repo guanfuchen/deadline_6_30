{
 "cells": [
  {
   "cell_type": "code",
   "execution_count": 1,
   "metadata": {},
   "outputs": [],
   "source": [
    "from scipy import misc\n",
    "import numpy as np\n",
    "import skimage.data\n",
    "import matplotlib.pyplot as plt\n",
    "import matplotlib.patches as mpatches\n",
    "import selectivesearch\n",
    "import cv2"
   ]
  },
  {
   "cell_type": "markdown",
   "metadata": {},
   "source": [
    "# [selectivesearch](https://github.com/AlpacaDB/selectivesearch)"
   ]
  },
  {
   "cell_type": "code",
   "execution_count": 2,
   "metadata": {},
   "outputs": [],
   "source": [
    "img = misc.imread('moving_obj.png')\n",
    "# img = cv2.imread('moving_obj.png')"
   ]
  },
  {
   "cell_type": "code",
   "execution_count": 3,
   "metadata": {},
   "outputs": [],
   "source": [
    "def decode_segmap(temp, plot=False):\n",
    "    Sky = [128, 128, 128]\n",
    "    Building = [128, 0, 0]\n",
    "    Pole = [192, 192, 128]\n",
    "    # Road_marking\n",
    "    Road_marking = [255, 69, 0]\n",
    "    Road = [128, 64, 128]\n",
    "    Pavement = [60, 40, 222]\n",
    "    Tree = [128, 128, 0]\n",
    "    SignSymbol = [192, 128, 128]\n",
    "    Fence = [64, 64, 128]\n",
    "    Car = [64, 0, 128]\n",
    "    Pedestrian = [64, 64, 0]\n",
    "    Bicyclist = [0, 128, 192]\n",
    "    Unlabelled = [0, 0, 0]\n",
    "\n",
    "    label_colours = np.array([Sky, Building, Pole, Road, Pavement, Tree, \n",
    "                              SignSymbol, Road_marking, Car, \n",
    "                              Pedestrian, Fence, Unlabelled])\n",
    "\n",
    "    height, width = temp.shape\n",
    "    rgb = np.zeros((height, width, 3), dtype=np.uint8)\n",
    "    \n",
    "    for row in range(height):\n",
    "        for col in range(width):\n",
    "            label = temp[row, col]\n",
    "            color = label_colours[label]\n",
    "#             if label==0:\n",
    "#                 print('label:', 0)\n",
    "            rgb[row, col, :] = color\n",
    "            \n",
    "#     rgb = rgb/255.0\n",
    "    \n",
    "    if plot:\n",
    "        plt.imshow(rgb)\n",
    "        plt.show()\n",
    "    else:\n",
    "        return rgb"
   ]
  },
  {
   "cell_type": "code",
   "execution_count": 4,
   "metadata": {},
   "outputs": [],
   "source": [
    "img = decode_segmap(img)"
   ]
  },
  {
   "cell_type": "code",
   "execution_count": 5,
   "metadata": {},
   "outputs": [
    {
     "data": {
      "text/plain": [
       "<matplotlib.image.AxesImage at 0x7f17678691d0>"
      ]
     },
     "execution_count": 5,
     "metadata": {},
     "output_type": "execute_result"
    },
    {
     "data": {
      "image/png": "[encoded data removed]",
      "text/plain": [
       "<matplotlib.figure.Figure at 0x7f179fcc2d10>"
      ]
     },
     "metadata": {},
     "output_type": "display_data"
    }
   ],
   "source": [
    "plt.imshow(img)"
   ]
  },
  {
   "cell_type": "code",
   "execution_count": 6,
   "metadata": {},
   "outputs": [],
   "source": [
    "height, width = img.shape[:2]"
   ]
  },
  {
   "cell_type": "code",
   "execution_count": 7,
   "metadata": {},
   "outputs": [
    {
     "data": {
      "text/plain": [
       "360"
      ]
     },
     "execution_count": 7,
     "metadata": {},
     "output_type": "execute_result"
    }
   ],
   "source": [
    "height"
   ]
  },
  {
   "cell_type": "code",
   "execution_count": 8,
   "metadata": {},
   "outputs": [
    {
     "data": {
      "text/plain": [
       "480"
      ]
     },
     "execution_count": 8,
     "metadata": {},
     "output_type": "execute_result"
    }
   ],
   "source": [
    "width"
   ]
  },
  {
   "cell_type": "code",
   "execution_count": 9,
   "metadata": {},
   "outputs": [],
   "source": [
    "# img_r = img[:, :, 0::3]\n",
    "# img_g = img[:, :, 1::3]\n",
    "# img_b = img[:, :, 2::3]"
   ]
  },
  {
   "cell_type": "code",
   "execution_count": 10,
   "metadata": {},
   "outputs": [],
   "source": [
    "# np.unique(img_r)"
   ]
  },
  {
   "cell_type": "code",
   "execution_count": 11,
   "metadata": {},
   "outputs": [],
   "source": [
    "# np.unique(img_g)"
   ]
  },
  {
   "cell_type": "code",
   "execution_count": 12,
   "metadata": {},
   "outputs": [],
   "source": [
    "# np.unique(img_b)"
   ]
  },
  {
   "cell_type": "code",
   "execution_count": 13,
   "metadata": {},
   "outputs": [],
   "source": [
    "# for row in range(height):\n",
    "#     for col in range(width):\n",
    "#         if np.array_equal(img[row, col, :], [64, 0, 128]):\n",
    "# #             print('汽车 Car = [64, 0, 128]')\n",
    "#             pass\n",
    "#         elif np.array_equal(img[row, col, :], [64, 64, 0]):\n",
    "# #             print('行人 Pedestrian = [64, 64, 0]')\n",
    "#             pass\n",
    "#         elif np.array_equal(img[row, col, :], [0, 128, 192]):\n",
    "# #             print('自行车手 Bicyclist = [0, 128, 192]')\n",
    "#             pass\n",
    "#         elif np.array_equal(img[row, col, :], [192, 128, 192]):\n",
    "# #             print('自行车手 Bicyclist = [192, 128, 192]')\n",
    "#             pass\n",
    "#         else:\n",
    "#             img[row, col, :] = [0, 0, 0]"
   ]
  },
  {
   "cell_type": "code",
   "execution_count": 14,
   "metadata": {},
   "outputs": [
    {
     "data": {
      "text/plain": [
       "<matplotlib.image.AxesImage at 0x7f1767769ad0>"
      ]
     },
     "execution_count": 14,
     "metadata": {},
     "output_type": "execute_result"
    },
    {
     "data": {
      "image/png": "[encoded data removed]",
      "text/plain": [
       "<matplotlib.figure.Figure at 0x7f176782da50>"
      ]
     },
     "metadata": {},
     "output_type": "display_data"
    }
   ],
   "source": [
    "plt.imshow(img)"
   ]
  },
  {
   "cell_type": "code",
   "execution_count": 15,
   "metadata": {},
   "outputs": [],
   "source": [
    "img_lbl, regions = selectivesearch.selective_search(img, scale=500, sigma=0.9, min_size=10)"
   ]
  },
  {
   "cell_type": "code",
   "execution_count": 16,
   "metadata": {},
   "outputs": [],
   "source": [
    "candidates = set()\n",
    "for r in regions:\n",
    "    if r['rect'] in candidates:\n",
    "        pass\n",
    "        continue\n",
    "    if r['size'] < 2000:\n",
    "        pass\n",
    "        continue\n",
    "    x, y, w, h = r['rect']\n",
    "    if h==0 or w==0:\n",
    "        continue\n",
    "    elif w / h > 1.2 or h / w > 1.2:\n",
    "        pass\n",
    "#         continue\n",
    "    candidates.add(r['rect'])"
   ]
  },
  {
   "cell_type": "code",
   "execution_count": 17,
   "metadata": {},
   "outputs": [
    {
     "data": {
      "text/plain": [
       "5"
      ]
     },
     "execution_count": 17,
     "metadata": {},
     "output_type": "execute_result"
    }
   ],
   "source": [
    "len(candidates)"
   ]
  },
  {
   "cell_type": "code",
   "execution_count": 18,
   "metadata": {},
   "outputs": [
    {
     "data": {
      "image/png": "[encoded data removed]",
      "text/plain": [
       "<matplotlib.figure.Figure at 0x7f1767723250>"
      ]
     },
     "metadata": {},
     "output_type": "display_data"
    }
   ],
   "source": [
    "fig, ax = plt.subplots(ncols=1, nrows=1, figsize=(6, 6))\n",
    "ax.imshow(img)\n",
    "for x, y, w, h in candidates:\n",
    "    rect = mpatches.Rectangle((x, y), w, h, fill=False, edgecolor='red', linewidth=1)\n",
    "    ax.add_patch(rect)\n",
    "plt.show()"
   ]
  },
  {
   "cell_type": "code",
   "execution_count": null,
   "metadata": {},
   "outputs": [],
   "source": []
  }
 ],
 "metadata": {
  "kernelspec": {
   "display_name": "Python 2",
   "language": "python",
   "name": "python2"
  },
  "language_info": {
   "codemirror_mode": {
    "name": "ipython",
    "version": 2
   },
   "file_extension": ".py",
   "mimetype": "text/x-python",
   "name": "python",
   "nbconvert_exporter": "python",
   "pygments_lexer": "ipython2",
   "version": "2.7.6"
  }
 },
 "nbformat": 4,
 "nbformat_minor": 2
}
