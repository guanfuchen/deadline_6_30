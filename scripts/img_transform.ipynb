{
 "cells": [
  {
   "cell_type": "code",
   "execution_count": 1,
   "metadata": {},
   "outputs": [],
   "source": [
    "import os\n",
    "import collections\n",
    "import random\n",
    "\n",
    "import torch\n",
    "import numpy as np\n",
    "import scipy.misc as misc\n",
    "import matplotlib.pyplot as plt\n",
    "from PIL import Image\n",
    "from torch.utils import data\n",
    "from torchvision import transforms\n",
    "import matplotlib.patches as patches\n",
    "import numpy.ma as ma\n",
    "# import cv2"
   ]
  },
  {
   "cell_type": "code",
   "execution_count": 2,
   "metadata": {},
   "outputs": [],
   "source": [
    "def rgb2hex(r,g,b):\n",
    "    hex = \"#{:02x}{:02x}{:02x}\".format(r,g,b)\n",
    "    return hex\n",
    "def hex2rgb(hexcode):\n",
    "    rgb = tuple(map(ord,hexcode[1:].decode('hex')))\n",
    "    return rgb"
   ]
  },
  {
   "cell_type": "code",
   "execution_count": 3,
   "metadata": {},
   "outputs": [],
   "source": [
    "# patches.Rectangle?\n",
    "# plt.subplots?\n",
    "# np.copy?"
   ]
  },
  {
   "cell_type": "code",
   "execution_count": 4,
   "metadata": {},
   "outputs": [],
   "source": [
    "# [camvid](https://github.com/mostafaizz/camvid) 其中提供了label color的camvid图像"
   ]
  },
  {
   "cell_type": "code",
   "execution_count": 5,
   "metadata": {},
   "outputs": [],
   "source": [
    "def draw_label_color():\n",
    "    \n",
    "    label_colours = {}\n",
    "    label_colours['Sky'] = [128, 128, 128]\n",
    "    label_colours['Building'] = [128, 0, 0]\n",
    "    label_colours['Pole'] = [192, 192, 128]\n",
    "    # Road_marking\n",
    "    label_colours['Road_marking'] = [255, 69, 0]\n",
    "    label_colours['Road'] = [128, 64, 128]\n",
    "    label_colours['Pavement'] = [60, 40, 222]\n",
    "    label_colours['Tree'] = [128, 128, 0]\n",
    "    label_colours['SignSymbol'] = [192, 128, 128]\n",
    "    label_colours['Fence'] = [64, 64, 128]\n",
    "    label_colours['Car'] = [64, 0, 128]\n",
    "    label_colours['Pedestrian'] = [64, 64, 0]\n",
    "    label_colours['Bicyclist'] = [0, 128, 192]\n",
    "    label_colours['Unlabelled'] = [0, 0, 0]\n",
    "    \n",
    "    fig, ax = plt.subplots()\n",
    "    ax.set_xlim([0, 2])\n",
    "    for enumerate_index, (label, colour) in enumerate(label_colours.items()):\n",
    "#         print('label:', label)\n",
    "#         print('colour:', colour)\n",
    "        colour_r = colour[0]\n",
    "        colour_g = colour[1]\n",
    "        colour_b = colour[2]\n",
    "        colour_hex = rgb2hex(colour_r, colour_g, colour_b)\n",
    "#         print('colour_hex:', colour_hex)\n",
    "        ax.add_patch(patches.Rectangle(xy=(0.1*enumerate_index,0), width=0.05, height=0.8, label=label, facecolor=colour_hex))\n",
    "    ax.legend()"
   ]
  },
  {
   "cell_type": "code",
   "execution_count": 6,
   "metadata": {},
   "outputs": [
    {
     "data": {
      "image/png": "[encoded data removed]",
      "text/plain": [
       "<matplotlib.figure.Figure at 0x7f63c22f62d0>"
      ]
     },
     "metadata": {},
     "output_type": "display_data"
    }
   ],
   "source": [
    "draw_label_color()"
   ]
  },
  {
   "cell_type": "code",
   "execution_count": 7,
   "metadata": {},
   "outputs": [],
   "source": [
    "def decode_segmap(temp, plot=False):\n",
    "    Sky = [128, 128, 128]\n",
    "    Building = [128, 0, 0]\n",
    "    Pole = [192, 192, 128]\n",
    "    # Road_marking\n",
    "    Road_marking = [255, 69, 0]\n",
    "    Road = [128, 64, 128]\n",
    "    Pavement = [60, 40, 222]\n",
    "    Tree = [128, 128, 0]\n",
    "    SignSymbol = [192, 128, 128]\n",
    "    Fence = [64, 64, 128]\n",
    "    Car = [64, 0, 128]\n",
    "    Pedestrian = [64, 64, 0]\n",
    "    Bicyclist = [0, 128, 192]\n",
    "    Unlabelled = [0, 0, 0]\n",
    "\n",
    "    label_colours = np.array([Sky, Building, Pole, Road, Pavement, Tree, \n",
    "                              SignSymbol, Road_marking, Car, \n",
    "                              Pedestrian, Fence, Unlabelled])\n",
    "\n",
    "    height, width = temp.shape\n",
    "    rgb = np.zeros((height, width, 3), dtype=np.uint8)\n",
    "    \n",
    "    for row in range(height):\n",
    "        for col in range(width):\n",
    "            label = temp[row, col]\n",
    "            color = label_colours[label]\n",
    "#             if label==0:\n",
    "#                 print('label:', 0)\n",
    "            rgb[row, col, :] = color\n",
    "            \n",
    "#     rgb = rgb/255.0\n",
    "    \n",
    "    if plot:\n",
    "        plt.imshow(rgb)\n",
    "        plt.show()\n",
    "    else:\n",
    "        return rgb"
   ]
  },
  {
   "cell_type": "code",
   "execution_count": 8,
   "metadata": {},
   "outputs": [],
   "source": [
    "# img = misc.imread('../data/0001TP_006690_raw.png')\n",
    "# img = cv2.imread('../data/0001TP_006690_raw.png', 0)\n",
    "img = misc.imread(os.path.expanduser('~/Data/CamVid/trainannot/0001TP_006690.png'))"
   ]
  },
  {
   "cell_type": "code",
   "execution_count": 9,
   "metadata": {},
   "outputs": [],
   "source": [
    "# img.dtype"
   ]
  },
  {
   "cell_type": "code",
   "execution_count": 10,
   "metadata": {},
   "outputs": [
    {
     "data": {
      "text/plain": [
       "array([ 0,  1,  2,  3,  4,  5,  6,  8,  9, 11], dtype=uint8)"
      ]
     },
     "execution_count": 10,
     "metadata": {},
     "output_type": "execute_result"
    }
   ],
   "source": [
    "np.unique(img)"
   ]
  },
  {
   "cell_type": "code",
   "execution_count": 11,
   "metadata": {},
   "outputs": [
    {
     "data": {
      "text/plain": [
       "(360, 480)"
      ]
     },
     "execution_count": 11,
     "metadata": {},
     "output_type": "execute_result"
    }
   ],
   "source": [
    "img.shape"
   ]
  },
  {
   "cell_type": "code",
   "execution_count": 12,
   "metadata": {},
   "outputs": [
    {
     "data": {
      "text/plain": [
       "<matplotlib.image.AxesImage at 0x7f63c0046310>"
      ]
     },
     "execution_count": 12,
     "metadata": {},
     "output_type": "execute_result"
    },
    {
     "data": {
      "image/png": "[encoded data removed]",
      "text/plain": [
       "<matplotlib.figure.Figure at 0x7f63c21c6510>"
      ]
     },
     "metadata": {},
     "output_type": "display_data"
    }
   ],
   "source": [
    "plt.imshow(img, cmap='gray')"
   ]
  },
  {
   "cell_type": "code",
   "execution_count": 13,
   "metadata": {},
   "outputs": [
    {
     "data": {
      "text/plain": [
       "8"
      ]
     },
     "execution_count": 13,
     "metadata": {},
     "output_type": "execute_result"
    }
   ],
   "source": [
    "img[230, 256]"
   ]
  },
  {
   "cell_type": "code",
   "execution_count": 14,
   "metadata": {},
   "outputs": [
    {
     "data": {
      "text/plain": [
       "<matplotlib.image.AxesImage at 0x7f63bff93750>"
      ]
     },
     "execution_count": 14,
     "metadata": {},
     "output_type": "execute_result"
    },
    {
     "data": {
      "image/png": "[encoded data removed]",
      "text/plain": [
       "<matplotlib.figure.Figure at 0x7f63c0046b90>"
      ]
     },
     "metadata": {},
     "output_type": "display_data"
    }
   ],
   "source": [
    "img_decode = decode_segmap(img)\n",
    "plt.imshow(img_decode)"
   ]
  },
  {
   "cell_type": "code",
   "execution_count": 15,
   "metadata": {},
   "outputs": [],
   "source": [
    "height, width = img_decode.shape[:2]"
   ]
  },
  {
   "cell_type": "code",
   "execution_count": 16,
   "metadata": {},
   "outputs": [],
   "source": [
    "# img_r = img_decode[:, :, 0::3]\n",
    "# img_g = img_decode[:, :, 1::3]\n",
    "# img_b = img_decode[:, :, 2::3]"
   ]
  },
  {
   "cell_type": "code",
   "execution_count": 17,
   "metadata": {},
   "outputs": [
    {
     "data": {
      "text/plain": [
       "<matplotlib.image.AxesImage at 0x7f63bfecdb10>"
      ]
     },
     "execution_count": 17,
     "metadata": {},
     "output_type": "execute_result"
    },
    {
     "data": {
      "image/png": "[encoded data removed]",
      "text/plain": [
       "<matplotlib.figure.Figure at 0x7f63bffb1450>"
      ]
     },
     "metadata": {},
     "output_type": "display_data"
    }
   ],
   "source": [
    "img_moving = np.copy(img)\n",
    "# 使用循环最慢\n",
    "for row in range(height):\n",
    "    for col in range(width):\n",
    "        img_value = img_moving[row, col]\n",
    "        if img_value==8 or img_value==9:\n",
    "            pass\n",
    "        else:\n",
    "            img_moving[row, col]=11\n",
    "plt.imshow(img_moving, cmap='gray')"
   ]
  },
  {
   "cell_type": "code",
   "execution_count": 18,
   "metadata": {},
   "outputs": [],
   "source": [
    "misc.imsave('moving_obj.png', img_moving)"
   ]
  },
  {
   "cell_type": "code",
   "execution_count": 19,
   "metadata": {},
   "outputs": [
    {
     "data": {
      "text/plain": [
       "<matplotlib.image.AxesImage at 0x7f63c215cc90>"
      ]
     },
     "execution_count": 19,
     "metadata": {},
     "output_type": "execute_result"
    },
    {
     "data": {
      "image/png": "[encoded data removed]",
      "text/plain": [
       "<matplotlib.figure.Figure at 0x7f63bfe8da90>"
      ]
     },
     "metadata": {},
     "output_type": "display_data"
    }
   ],
   "source": [
    "# 尽量不使用循环\n",
    "mask_img_moving_mask = np.in1d(img, [8, 9]).reshape(height, width)\n",
    "img_moving = mask_img_moving_mask * img\n",
    "plt.imshow(img_moving, cmap='gray')"
   ]
  },
  {
   "cell_type": "code",
   "execution_count": null,
   "metadata": {},
   "outputs": [],
   "source": []
  }
 ],
 "metadata": {
  "kernelspec": {
   "display_name": "Python 2",
   "language": "python",
   "name": "python2"
  },
  "language_info": {
   "codemirror_mode": {
    "name": "ipython",
    "version": 2
   },
   "file_extension": ".py",
   "mimetype": "text/x-python",
   "name": "python",
   "nbconvert_exporter": "python",
   "pygments_lexer": "ipython2",
   "version": "2.7.6"
  }
 },
 "nbformat": 4,
 "nbformat_minor": 2
}
