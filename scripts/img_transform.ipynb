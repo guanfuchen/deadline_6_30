{
 "cells": [
  {
   "cell_type": "code",
   "execution_count": 1,
   "metadata": {},
   "outputs": [],
   "source": [
    "import os\n",
    "import collections\n",
    "import random\n",
    "\n",
    "import torch\n",
    "import numpy as np\n",
    "import scipy.misc as m\n",
    "import matplotlib.pyplot as plt\n",
    "from PIL import Image\n",
    "from torch.utils import data\n",
    "from torchvision import transforms"
   ]
  },
  {
   "cell_type": "code",
   "execution_count": 2,
   "metadata": {},
   "outputs": [],
   "source": [
    "def decode_segmap(temp, plot=False):\n",
    "        Sky = [128, 128, 128]\n",
    "        Building = [128, 0, 0]\n",
    "        Pole = [192, 192, 128]\n",
    "        Road_marking = [255, 69, 0]\n",
    "        Road = [128, 64, 128]\n",
    "        Pavement = [60, 40, 222]\n",
    "        Tree = [128, 128, 0]\n",
    "        SignSymbol = [192, 128, 128]\n",
    "        Fence = [64, 64, 128]\n",
    "        Car = [64, 0, 128]\n",
    "        Pedestrian = [64, 64, 0]\n",
    "        Bicyclist = [0, 128, 192]\n",
    "        Unlabelled = [0, 0, 0]\n",
    "\n",
    "        label_colours = np.array([Sky, Building, Pole, Road_marking, Road, \n",
    "                                  Pavement, Tree, SignSymbol, Fence, Car, \n",
    "                                  Pedestrian, Bicyclist, Unlabelled])\n",
    "        r = temp.copy()\n",
    "        g = temp.copy()\n",
    "        b = temp.copy()\n",
    "        for l in range(0, 13):\n",
    "            r[temp == l] = label_colours[l, 0]\n",
    "            g[temp == l] = label_colours[l, 1]\n",
    "            b[temp == l] = label_colours[l, 2]\n",
    "\n",
    "        rgb = np.zeros((temp.shape[0], temp.shape[1], 3))\n",
    "        rgb[:, :, 0] = r\n",
    "        rgb[:, :, 1] = g\n",
    "        rgb[:, :, 2] = b\n",
    "        if plot:\n",
    "            plt.imshow(rgb)\n",
    "            plt.show()\n",
    "        else:\n",
    "            return rgb"
   ]
  },
  {
   "cell_type": "code",
   "execution_count": 3,
   "metadata": {},
   "outputs": [],
   "source": [
    "img = m.imread('../data/0001TP_006690_raw.png') "
   ]
  },
  {
   "cell_type": "code",
   "execution_count": 4,
   "metadata": {},
   "outputs": [
    {
     "data": {
      "text/plain": [
       "array([[ 1,  1,  1, ...,  1,  1,  1],\n",
       "       [ 1,  1,  1, ...,  1,  1,  1],\n",
       "       [ 1,  1,  1, ...,  1,  1,  1],\n",
       "       ..., \n",
       "       [ 4,  4,  4, ..., 11, 11, 11],\n",
       "       [ 4,  4,  4, ..., 11, 11, 11],\n",
       "       [ 4,  4,  4, ..., 11, 11, 11]], dtype=uint8)"
      ]
     },
     "execution_count": 4,
     "metadata": {},
     "output_type": "execute_result"
    }
   ],
   "source": [
    "img"
   ]
  },
  {
   "cell_type": "code",
   "execution_count": 5,
   "metadata": {},
   "outputs": [
    {
     "data": {
      "text/plain": [
       "(360, 480)"
      ]
     },
     "execution_count": 5,
     "metadata": {},
     "output_type": "execute_result"
    }
   ],
   "source": [
    "img.shape"
   ]
  },
  {
   "cell_type": "code",
   "execution_count": 6,
   "metadata": {},
   "outputs": [
    {
     "data": {
      "text/plain": [
       "<matplotlib.image.AxesImage at 0x7f85e2825290>"
      ]
     },
     "execution_count": 6,
     "metadata": {},
     "output_type": "execute_result"
    },
    {
     "data": {
      "image/png": "[encoded data removed]",
      "text/plain": [
       "<matplotlib.figure.Figure at 0x7f85e28ec650>"
      ]
     },
     "metadata": {},
     "output_type": "display_data"
    }
   ],
   "source": [
    "plt.imshow(img)"
   ]
  },
  {
   "cell_type": "code",
   "execution_count": 7,
   "metadata": {},
   "outputs": [],
   "source": [
    "img_decode = decode_segmap(img)"
   ]
  },
  {
   "cell_type": "code",
   "execution_count": 8,
   "metadata": {},
   "outputs": [
    {
     "data": {
      "text/plain": [
       "<matplotlib.image.AxesImage at 0x7f85e0798910>"
      ]
     },
     "execution_count": 8,
     "metadata": {},
     "output_type": "execute_result"
    },
    {
     "data": {
      "image/png": "[encoded data removed]",
      "text/plain": [
       "<matplotlib.figure.Figure at 0x7f85e07e5750>"
      ]
     },
     "metadata": {},
     "output_type": "display_data"
    }
   ],
   "source": [
    "plt.imshow(img_decode[:, :, :])"
   ]
  },
  {
   "cell_type": "code",
   "execution_count": 9,
   "metadata": {},
   "outputs": [],
   "source": [
    "height, width = img_decode.shape[:2]"
   ]
  },
  {
   "cell_type": "code",
   "execution_count": 10,
   "metadata": {},
   "outputs": [],
   "source": [
    "img_r = img_decode[:, :, 0::3]\n",
    "img_g = img_decode[:, :, 1::3]\n",
    "img_b = img_decode[:, :, 2::3]"
   ]
  },
  {
   "cell_type": "code",
   "execution_count": 11,
   "metadata": {},
   "outputs": [],
   "source": [
    "for row in range(height):\n",
    "    for col in range(width):\n",
    "        if np.array_equal(img_decode[row, col, :], [64, 0, 128]):\n",
    "#             print('汽车 Car = [64, 0, 128]')\n",
    "            pass\n",
    "        elif np.array_equal(img_decode[row, col, :], [64, 64, 0]):\n",
    "#             print('行人 Pedestrian = [64, 64, 0]')\n",
    "            pass\n",
    "        elif np.array_equal(img_decode[row, col, :], [0, 128, 192]):\n",
    "#             print('自行车手 Bicyclist = [0, 128, 192]')\n",
    "            pass\n",
    "        elif np.array_equal(img_decode[row, col, :], [192, 128, 192]):\n",
    "#             print('自行车手 Bicyclist = [192, 128, 192]')\n",
    "            pass\n",
    "        else:\n",
    "            img_decode[row, col, :] = [0, 0, 0]"
   ]
  },
  {
   "cell_type": "code",
   "execution_count": 12,
   "metadata": {},
   "outputs": [
    {
     "data": {
      "text/plain": [
       "<matplotlib.image.AxesImage at 0x7f85e066a050>"
      ]
     },
     "execution_count": 12,
     "metadata": {},
     "output_type": "execute_result"
    },
    {
     "data": {
      "image/png": "[encoded data removed]",
      "text/plain": [
       "<matplotlib.figure.Figure at 0x7f85e07a6350>"
      ]
     },
     "metadata": {},
     "output_type": "display_data"
    }
   ],
   "source": [
    "plt.imshow(img_decode)"
   ]
  },
  {
   "cell_type": "code",
   "execution_count": null,
   "metadata": {},
   "outputs": [],
   "source": []
  }
 ],
 "metadata": {
  "kernelspec": {
   "display_name": "Python 2",
   "language": "python",
   "name": "python2"
  },
  "language_info": {
   "codemirror_mode": {
    "name": "ipython",
    "version": 2
   },
   "file_extension": ".py",
   "mimetype": "text/x-python",
   "name": "python",
   "nbconvert_exporter": "python",
   "pygments_lexer": "ipython2",
   "version": "2.7.6"
  }
 },
 "nbformat": 4,
 "nbformat_minor": 2
}
