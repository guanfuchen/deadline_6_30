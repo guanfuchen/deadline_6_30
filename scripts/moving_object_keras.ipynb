{
 "cells": [
  {
   "cell_type": "code",
   "execution_count": 1,
   "metadata": {},
   "outputs": [
    {
     "name": "stderr",
     "output_type": "stream",
     "text": [
      "/usr/local/lib/python2.7/dist-packages/h5py/__init__.py:36: FutureWarning: Conversion of the second argument of issubdtype from `float` to `np.floating` is deprecated. In future, it will be treated as `np.float64 == np.dtype(float).type`.\n",
      "  from ._conv import register_converters as _register_converters\n",
      "Using TensorFlow backend.\n"
     ]
    }
   ],
   "source": [
    "%matplotlib inline\n",
    "from keras.models import Sequential\n",
    "from keras.layers.convolutional import Conv3D\n",
    "from keras.layers.convolutional_recurrent import ConvLSTM2D\n",
    "from keras.layers.normalization import BatchNormalization\n",
    "from keras.utils.vis_utils import model_to_dot\n",
    "from keras.utils.vis_utils import plot_model\n",
    "from keras.callbacks import ModelCheckpoint\n",
    "import os\n",
    "import numpy as np\n",
    "import matplotlib.pyplot as plt"
   ]
  },
  {
   "cell_type": "code",
   "execution_count": 2,
   "metadata": {},
   "outputs": [],
   "source": [
    "class vpn_mnist_config:\n",
    "    def __init__(self):\n",
    "        pass\n",
    "    data_dir = os.path.join(os.path.expanduser('~/Data/mnist_test_seq.npy'))\n",
    "    train_sequences_num = 7000\n",
    "    truncated_steps = 9\n",
    "    batch_size = 4\n",
    "    num_timestamps = 10"
   ]
  },
  {
   "cell_type": "code",
   "execution_count": 3,
   "metadata": {},
   "outputs": [],
   "source": [
    "class GenerateMovingMnistData:\n",
    "    def __init__(self):\n",
    "        np.random.seed(123)\n",
    "        sequences = np.load(vpn_mnist_config.data_dir).transpose((1, 0, 2, 3))\n",
    "        sequences = np.expand_dims(np.squeeze(sequences), 4)\n",
    "        shuffled_idxs = np.arange(sequences.shape[0])\n",
    "        np.random.shuffle(shuffled_idxs)\n",
    "        sequences = sequences[shuffled_idxs]\n",
    "\n",
    "        self.num_timestamps = 10\n",
    "        self.height = sequences.shape[2]\n",
    "        self.width = sequences.shape[3]\n",
    "        self.channel = sequences.shape[4]\n",
    "        self.batch_size = vpn_mnist_config.batch_size\n",
    "        self.seq_len = sequences.shape[0]\n",
    "        self.train_len = vpn_mnist_config.train_sequences_num\n",
    "        assert self.train_len < self.seq_len\n",
    "        self.test_len = self.seq_len - self.train_len\n",
    "\n",
    "        self.train_sequences = sequences[:self.train_len]\n",
    "        self.test_sequences = sequences[self.train_len:]\n",
    "\n",
    "    def next_train_batch_keras(self):\n",
    "        while True:\n",
    "            for i in range(0, self.train_len, self.batch_size):\n",
    "                for j in range(i, i+self.batch_size):\n",
    "                    idx = np.random.choice(self.train_len, self.batch_size)\n",
    "                    current_sequence = self.train_sequences[idx]\n",
    "                    current_sequence = current_sequence / 255.0\n",
    "                # 输入前面10帧，以及预测的后面10帧\n",
    "                prev_data = current_sequence[:, 0:self.num_timestamps]\n",
    "                future_data = current_sequence[:, 1:self.num_timestamps+1]\n",
    "                yield prev_data, future_data\n",
    "\n",
    "    def next_test_batch_keras(self):\n",
    "        while True:\n",
    "            for i in range(0, self.test_len, self.batch_size):\n",
    "                for j in range(i, i+self.batch_size):\n",
    "                    idx = np.random.choice(self.test_len, self.batch_size)\n",
    "                    current_sequence = self.test_sequences[idx]\n",
    "                    current_sequence = current_sequence / 255.0\n",
    "                # 输入前面10帧，以及预测的后面10帧\n",
    "                prev_data = current_sequence[:, 0:self.num_timestamps]\n",
    "                future_data = current_sequence[:, 1:self.num_timestamps+1]\n",
    "                yield prev_data, future_data\n",
    "\n",
    "    def test_batch(self):\n",
    "        while True:\n",
    "            idx = np.random.choice(self.test_sequences.shape[0], self.batch_size)\n",
    "            current_sequence = self.test_sequences[idx]\n",
    "\n",
    "            # 输入前面10帧，以及预测的后面10帧\n",
    "            return current_sequence[:, 0:self.num_timestamps]"
   ]
  },
  {
   "cell_type": "code",
   "execution_count": 4,
   "metadata": {},
   "outputs": [],
   "source": [
    "data_generate = GenerateMovingMnistData()"
   ]
  },
  {
   "cell_type": "code",
   "execution_count": 5,
   "metadata": {},
   "outputs": [],
   "source": [
    "n_frames = data_generate.num_timestamps\n",
    "row = data_generate.height\n",
    "col = data_generate.width\n",
    "channel = data_generate.channel\n",
    "batch_size = data_generate.batch_size"
   ]
  },
  {
   "cell_type": "code",
   "execution_count": 6,
   "metadata": {},
   "outputs": [],
   "source": [
    "model = Sequential()\n",
    "model.add(ConvLSTM2D(filters=40, kernel_size=(3, 3), input_shape=(n_frames, row, col, channel), padding='same', return_sequences=True))\n",
    "model.add(BatchNormalization())\n",
    "model.add(ConvLSTM2D(filters=40, kernel_size=(3, 3), padding='same', return_sequences=True))\n",
    "model.add(BatchNormalization())\n",
    "model.add(ConvLSTM2D(filters=40, kernel_size=(3, 3), padding='same', return_sequences=True))\n",
    "model.add(BatchNormalization())\n",
    "model.add(ConvLSTM2D(filters=40, kernel_size=(3, 3), padding='same', return_sequences=True))\n",
    "model.add(BatchNormalization())\n",
    "model.add(Conv3D(filters=1, kernel_size=(1, 3, 3), activation='sigmoid', padding='same', data_format='channels_last'))\n",
    "model.compile(loss='binary_crossentropy', optimizer='adadelta', metrics=['accuracy'])"
   ]
  },
  {
   "cell_type": "code",
   "execution_count": 7,
   "metadata": {},
   "outputs": [
    {
     "name": "stdout",
     "output_type": "stream",
     "text": [
      "_________________________________________________________________\n",
      "Layer (type)                 Output Shape              Param #   \n",
      "=================================================================\n",
      "conv_lst_m2d_1 (ConvLSTM2D)  (None, 10, 64, 64, 40)    59200     \n",
      "_________________________________________________________________\n",
      "batch_normalization_1 (Batch (None, 10, 64, 64, 40)    160       \n",
      "_________________________________________________________________\n",
      "conv_lst_m2d_2 (ConvLSTM2D)  (None, 10, 64, 64, 40)    115360    \n",
      "_________________________________________________________________\n",
      "batch_normalization_2 (Batch (None, 10, 64, 64, 40)    160       \n",
      "_________________________________________________________________\n",
      "conv_lst_m2d_3 (ConvLSTM2D)  (None, 10, 64, 64, 40)    115360    \n",
      "_________________________________________________________________\n",
      "batch_normalization_3 (Batch (None, 10, 64, 64, 40)    160       \n",
      "_________________________________________________________________\n",
      "conv_lst_m2d_4 (ConvLSTM2D)  (None, 10, 64, 64, 40)    115360    \n",
      "_________________________________________________________________\n",
      "batch_normalization_4 (Batch (None, 10, 64, 64, 40)    160       \n",
      "_________________________________________________________________\n",
      "conv3d_1 (Conv3D)            (None, 10, 64, 64, 1)     361       \n",
      "=================================================================\n",
      "Total params: 406,281\n",
      "Trainable params: 405,961\n",
      "Non-trainable params: 320\n",
      "_________________________________________________________________\n",
      "None\n"
     ]
    }
   ],
   "source": [
    "print(model.summary())"
   ]
  },
  {
   "cell_type": "code",
   "execution_count": 8,
   "metadata": {},
   "outputs": [],
   "source": [
    "callbacks = []\n",
    "model_checkpoint_filepath = \"keras_conv_lstm_weights_best.hdf5\"\n",
    "if os.path.exists(model_checkpoint_filepath):\n",
    "    model.load_weights(model_checkpoint_filepath)\n",
    "model_checkpoint = ModelCheckpoint(filepath=model_checkpoint_filepath, monitor='val_acc', verbose=1, save_best_only=True, mode='max')\n",
    "callbacks.append(model_checkpoint)"
   ]
  },
  {
   "cell_type": "code",
   "execution_count": 9,
   "metadata": {},
   "outputs": [],
   "source": [
    "# model.fit_generator(generator=data_generate.next_train_batch_keras(), validation_data=data_generate.next_test_batch_keras(), steps_per_epoch=data_generate.train_len / batch_size, validation_steps=data_generate.test_len / batch_size, epochs=1000, verbose=1, callbacks=callbacks)"
   ]
  },
  {
   "cell_type": "code",
   "execution_count": 10,
   "metadata": {},
   "outputs": [],
   "source": [
    "# model.predict(np.array(data_generate.next_batch()))\n",
    "data_sample_test = np.array(data_generate.test_batch())/255.0\n",
    "data_sample_test_pred = model.predict(data_sample_test)"
   ]
  },
  {
   "cell_type": "code",
   "execution_count": 11,
   "metadata": {},
   "outputs": [
    {
     "data": {
      "text/plain": [
       "(4, 10, 64, 64, 1)"
      ]
     },
     "execution_count": 11,
     "metadata": {},
     "output_type": "execute_result"
    }
   ],
   "source": [
    "data_sample_test_pred.shape"
   ]
  },
  {
   "cell_type": "code",
   "execution_count": 12,
   "metadata": {},
   "outputs": [
    {
     "data": {
      "image/png": "[encoded data removed]",
      "text/plain": [
       "<matplotlib.figure.Figure at 0x7faf21d6fa50>"
      ]
     },
     "metadata": {},
     "output_type": "display_data"
    }
   ],
   "source": [
    "for image_index in range(vpn_mnist_config.num_timestamps):\n",
    "    img = data_sample_test_pred[0, image_index, :, :, 0]\n",
    "    plt.subplot(4, 5, image_index+1)\n",
    "    plt.imshow(img, cmap='gray')\n",
    "    plt.axis('off')"
   ]
  },
  {
   "cell_type": "code",
   "execution_count": null,
   "metadata": {},
   "outputs": [],
   "source": []
  }
 ],
 "metadata": {
  "kernelspec": {
   "display_name": "Python 2",
   "language": "python",
   "name": "python2"
  },
  "language_info": {
   "codemirror_mode": {
    "name": "ipython",
    "version": 2
   },
   "file_extension": ".py",
   "mimetype": "text/x-python",
   "name": "python",
   "nbconvert_exporter": "python",
   "pygments_lexer": "ipython2",
   "version": "2.7.6"
  }
 },
 "nbformat": 4,
 "nbformat_minor": 2
}
