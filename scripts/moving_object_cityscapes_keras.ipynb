{
 "cells": [
  {
   "cell_type": "code",
   "execution_count": null,
   "metadata": {},
   "outputs": [],
   "source": [
    "import os\n",
    "os.environ[\"CUDA_DEVICE_ORDER\"] = \"PCI_BUS_ID\"   # see issue #152\n",
    "os.environ[\"CUDA_VISIBLE_DEVICES\"] = \"\""
   ]
  },
  {
   "cell_type": "code",
   "execution_count": null,
   "metadata": {},
   "outputs": [],
   "source": [
    "%matplotlib inline\n",
    "from keras.models import Sequential\n",
    "from keras.layers.convolutional import Conv3D\n",
    "from keras.layers.convolutional_recurrent import ConvLSTM2D\n",
    "from keras.layers.normalization import BatchNormalization\n",
    "from keras.utils.vis_utils import model_to_dot\n",
    "from keras.utils.vis_utils import plot_model\n",
    "from keras.callbacks import ModelCheckpoint\n",
    "import keras\n",
    "import os\n",
    "import numpy as np\n",
    "import matplotlib.pyplot as plt\n",
    "import time\n",
    "import scipy.misc as misc\n",
    "import time"
   ]
  },
  {
   "cell_type": "code",
   "execution_count": null,
   "metadata": {},
   "outputs": [],
   "source": [
    "def decode_segmap(temp, plot=False):\n",
    "    Sky = [128, 128, 128]\n",
    "    Building = [128, 0, 0]\n",
    "    Pole = [192, 192, 128]\n",
    "    # Road_marking\n",
    "    Road_marking = [255, 69, 0]\n",
    "    Road = [128, 64, 128]\n",
    "    Pavement = [60, 40, 222]\n",
    "    Tree = [128, 128, 0]\n",
    "    SignSymbol = [192, 128, 128]\n",
    "    Fence = [64, 64, 128]\n",
    "    Car = [64, 0, 128]\n",
    "    Pedestrian = [64, 64, 0]\n",
    "    Bicyclist = [0, 128, 192]\n",
    "    Unlabelled = [0, 0, 0]\n",
    "\n",
    "    label_colours = np.array([Sky, Building, Pole, Road, Pavement, Tree,\n",
    "                              SignSymbol, Road_marking, Car,\n",
    "                              Pedestrian, Fence, Unlabelled])\n",
    "\n",
    "    height, width = temp.shape\n",
    "    rgb = np.zeros((height, width, 3), dtype=np.uint8)\n",
    "\n",
    "    for row in range(height):\n",
    "        for col in range(width):\n",
    "            label = temp[row, col]\n",
    "            color = label_colours[label]\n",
    "            #             if label==0:\n",
    "            #                 print('label:', 0)\n",
    "            rgb[row, col, :] = color\n",
    "\n",
    "            #     rgb = rgb/255.0\n",
    "\n",
    "    if plot:\n",
    "        plt.imshow(rgb)\n",
    "        plt.show()\n",
    "    else:\n",
    "        return rgb"
   ]
  },
  {
   "cell_type": "code",
   "execution_count": null,
   "metadata": {},
   "outputs": [],
   "source": [
    "class vpn_mnist_config:\n",
    "    def __init__(self):\n",
    "        pass\n",
    "    data_dir = os.path.join(os.path.expanduser('~/Data/mnist_test_seq.npy'))\n",
    "    train_sequences_num = 7000\n",
    "    truncated_steps = 9\n",
    "    batch_size = 4\n",
    "    num_timestamps = 10"
   ]
  },
  {
   "cell_type": "code",
   "execution_count": null,
   "metadata": {},
   "outputs": [],
   "source": [
    "class GenerateMovingMnistData:\n",
    "    def __init__(self):\n",
    "        np.random.seed(123)\n",
    "        sequences = np.load(vpn_mnist_config.data_dir).transpose((1, 0, 2, 3))\n",
    "        sequences = np.expand_dims(np.squeeze(sequences), 4)\n",
    "        shuffled_idxs = np.arange(sequences.shape[0])\n",
    "        np.random.shuffle(shuffled_idxs)\n",
    "        sequences = sequences[shuffled_idxs]\n",
    "\n",
    "        self.num_timestamps = 10\n",
    "        self.height = sequences.shape[2]\n",
    "        self.width = sequences.shape[3]\n",
    "        self.channel = sequences.shape[4]\n",
    "        self.batch_size = vpn_mnist_config.batch_size\n",
    "        self.seq_len = sequences.shape[0]\n",
    "        self.train_len = vpn_mnist_config.train_sequences_num\n",
    "        assert self.train_len < self.seq_len\n",
    "        self.test_len = self.seq_len - self.train_len\n",
    "\n",
    "        self.train_sequences = sequences[:self.train_len]\n",
    "        self.test_sequences = sequences[self.train_len:]\n",
    "\n",
    "    def next_train_batch_keras(self):\n",
    "        while True:\n",
    "            for i in range(0, self.train_len, self.batch_size):\n",
    "                for j in range(i, i+self.batch_size):\n",
    "                    idx = np.random.choice(self.train_len, self.batch_size)\n",
    "                    current_sequence = self.train_sequences[idx]\n",
    "                    current_sequence = current_sequence / 255.0\n",
    "                # 输入前面10帧，以及预测的后面10帧\n",
    "                prev_data = current_sequence[:, 0:self.num_timestamps]\n",
    "                future_data = current_sequence[:, 1:self.num_timestamps+1]\n",
    "                yield prev_data, future_data\n",
    "\n",
    "    def next_test_batch_keras(self):\n",
    "        while True:\n",
    "            for i in range(0, self.test_len, self.batch_size):\n",
    "                for j in range(i, i+self.batch_size):\n",
    "                    idx = np.random.choice(self.test_len, self.batch_size)\n",
    "                    current_sequence = self.test_sequences[idx]\n",
    "                    current_sequence = current_sequence / 255.0\n",
    "                # 输入前面10帧，以及预测的后面10帧\n",
    "                prev_data = current_sequence[:, 0:self.num_timestamps]\n",
    "                future_data = current_sequence[:, 1:self.num_timestamps+1]\n",
    "                yield prev_data, future_data\n",
    "\n",
    "    def test_batch(self):\n",
    "        while True:\n",
    "            idx = np.random.choice(self.test_sequences.shape[0], self.batch_size)\n",
    "            current_sequence = self.test_sequences[idx]\n",
    "\n",
    "            # 输入前面10帧，以及预测的后面10帧\n",
    "            return current_sequence[:, 0:self.num_timestamps]"
   ]
  },
  {
   "cell_type": "code",
   "execution_count": null,
   "metadata": {},
   "outputs": [],
   "source": [
    "class camvid_config:\n",
    "    def __init__(self):\n",
    "        pass\n",
    "    data_dir = os.path.join(os.path.expanduser('~/Data/trainannot_moving_48x36.npy')) # 标注过的标签\n",
    "#     data_dir = os.path.join(os.path.expanduser('~/Data/trainannot_moving_480x360.npy')) # 标注过的标签\n",
    "#     data_dir = os.path.join(os.path.expanduser('~/Data/train_48x36.npy')) # 原图像\n",
    "    train_sequences_num = 300\n",
    "    train_sequences_num = 20\n",
    "    truncated_steps = 9\n",
    "    batch_size = 4\n",
    "    num_timestamps = 10"
   ]
  },
  {
   "cell_type": "code",
   "execution_count": null,
   "metadata": {},
   "outputs": [],
   "source": [
    "class GenerateCamVidData:\n",
    "    def __init__(self):\n",
    "        np.random.seed(123)\n",
    "        sequences = np.load(camvid_config.data_dir).transpose((1, 0, 2, 3))\n",
    "        sequences = np.expand_dims(np.squeeze(sequences), 4)\n",
    "        shuffled_idxs = np.arange(sequences.shape[0])\n",
    "        np.random.shuffle(shuffled_idxs)\n",
    "        sequences = sequences[shuffled_idxs]\n",
    "\n",
    "        self.num_timestamps = 10\n",
    "        self.height = sequences.shape[2]\n",
    "        self.width = sequences.shape[3]\n",
    "        self.channel = sequences.shape[4]\n",
    "        self.batch_size = camvid_config.batch_size\n",
    "        self.seq_len = sequences.shape[0]\n",
    "        self.train_len = camvid_config.train_sequences_num\n",
    "        assert self.train_len < self.seq_len\n",
    "        self.test_len = self.seq_len - self.train_len\n",
    "\n",
    "        self.train_sequences = sequences[:self.train_len]\n",
    "        self.test_sequences = sequences[self.train_len:]\n",
    "\n",
    "    def next_train_batch_keras(self):\n",
    "        while True:\n",
    "            for i in range(0, self.train_len, self.batch_size):\n",
    "                for j in range(i, i+self.batch_size):\n",
    "                    idx = np.random.choice(self.train_len, self.batch_size)\n",
    "                    current_sequence = self.train_sequences[idx]\n",
    "                    current_sequence = current_sequence / 255.0\n",
    "                # 输入前面10帧，以及预测的后面10帧\n",
    "                prev_data = current_sequence[:, 0:self.num_timestamps]\n",
    "                future_data = current_sequence[:, 1:self.num_timestamps+1]\n",
    "                yield prev_data, future_data\n",
    "\n",
    "    def next_test_batch_keras(self):\n",
    "        while True:\n",
    "            for i in range(0, self.test_len, self.batch_size):\n",
    "                for j in range(i, i+self.batch_size):\n",
    "                    idx = np.random.choice(self.test_len, self.batch_size)\n",
    "                    current_sequence = self.test_sequences[idx]\n",
    "                    current_sequence = current_sequence / 255.0\n",
    "                # 输入前面10帧，以及预测的后面10帧\n",
    "                prev_data = current_sequence[:, 0:self.num_timestamps]\n",
    "                future_data = current_sequence[:, 1:self.num_timestamps+1]\n",
    "                yield prev_data, future_data\n",
    "\n",
    "    def test_batch(self):\n",
    "        while True:\n",
    "            idx = np.random.choice(self.test_sequences.shape[0], self.batch_size)\n",
    "            current_sequence = self.test_sequences[idx]\n",
    "\n",
    "            # 输入前面10帧，以及预测的后面10帧\n",
    "            return current_sequence[:, 0:self.num_timestamps]"
   ]
  },
  {
   "cell_type": "code",
   "execution_count": null,
   "metadata": {},
   "outputs": [],
   "source": [
    "# data_generate = GenerateMovingMnistData()\n",
    "data_generate = GenerateCamVidData()"
   ]
  },
  {
   "cell_type": "code",
   "execution_count": null,
   "metadata": {},
   "outputs": [],
   "source": [
    "n_frames = data_generate.num_timestamps\n",
    "row = data_generate.height\n",
    "col = data_generate.width\n",
    "channel = data_generate.channel\n",
    "batch_size = data_generate.batch_size"
   ]
  },
  {
   "cell_type": "code",
   "execution_count": null,
   "metadata": {},
   "outputs": [],
   "source": [
    "model = Sequential()\n",
    "model.add(ConvLSTM2D(filters=40, kernel_size=(3, 3), input_shape=(n_frames, row, col, channel), padding='same', return_sequences=True))\n",
    "model.add(BatchNormalization())\n",
    "model.add(ConvLSTM2D(filters=40, kernel_size=(3, 3), padding='same', return_sequences=True))\n",
    "model.add(BatchNormalization())\n",
    "model.add(ConvLSTM2D(filters=40, kernel_size=(3, 3), padding='same', return_sequences=True))\n",
    "model.add(BatchNormalization())\n",
    "model.add(ConvLSTM2D(filters=40, kernel_size=(3, 3), padding='same', return_sequences=True))\n",
    "model.add(BatchNormalization())\n",
    "model.add(Conv3D(filters=1, kernel_size=(1, 3, 3), activation='sigmoid', padding='same', data_format='channels_last'))\n",
    "model.compile(loss='mean_squared_error', optimizer='adadelta', metrics=['accuracy']) # mean_squared_error"
   ]
  },
  {
   "cell_type": "code",
   "execution_count": null,
   "metadata": {},
   "outputs": [],
   "source": [
    "print(model.summary())"
   ]
  },
  {
   "cell_type": "code",
   "execution_count": null,
   "metadata": {},
   "outputs": [],
   "source": [
    "# str(time.time())\n",
    "# \"keras_conv_lstm_weights_best{}.hdf5\".format(str(time.time()))"
   ]
  },
  {
   "cell_type": "code",
   "execution_count": null,
   "metadata": {},
   "outputs": [],
   "source": [
    "callbacks = []\n",
    "model_checkpoint_filepath = \"keras_conv_lstm_weights_best_{}.hdf5\".format(str(time.time()))\n",
    "# model_checkpoint_filepath = \"keras_conv_lstm_weights_best.hdf5\"\n",
    "if os.path.exists(model_checkpoint_filepath):\n",
    "    model.load_weights(model_checkpoint_filepath)\n",
    "model_checkpoint = ModelCheckpoint(filepath=model_checkpoint_filepath, monitor='val_acc', verbose=1, save_best_only=True, mode='max')\n",
    "callbacks.append(model_checkpoint)"
   ]
  },
  {
   "cell_type": "code",
   "execution_count": null,
   "metadata": {},
   "outputs": [],
   "source": [
    "model.fit_generator(generator=data_generate.next_train_batch_keras(), validation_data=data_generate.next_test_batch_keras(), steps_per_epoch=data_generate.train_len / batch_size, validation_steps=data_generate.test_len / batch_size, epochs=1000, verbose=1, callbacks=callbacks)"
   ]
  },
  {
   "cell_type": "code",
   "execution_count": null,
   "metadata": {},
   "outputs": [],
   "source": [
    "# model.predict(np.array(data_generate.next_batch()))\n",
    "data_sample_test = np.array(data_generate.test_batch())/255.0\n",
    "data_sample_test_pred = model.predict(data_sample_test)"
   ]
  },
  {
   "cell_type": "code",
   "execution_count": null,
   "metadata": {},
   "outputs": [],
   "source": [
    "data_sample_test_pred.shape"
   ]
  },
  {
   "cell_type": "code",
   "execution_count": null,
   "metadata": {},
   "outputs": [],
   "source": [
    "for image_index in range(vpn_mnist_config.num_timestamps):\n",
    "    img = data_sample_test[0, image_index, :, :, 0]\n",
    "#     img = (img*255).astype(np.uint8)\n",
    "#     img = decode_segmap(img)\n",
    "    plt.subplot(4, 5, image_index+1)\n",
    "    plt.imshow(img, cmap='gray')\n",
    "    plt.axis('off')"
   ]
  },
  {
   "cell_type": "code",
   "execution_count": null,
   "metadata": {},
   "outputs": [],
   "source": [
    "for image_index in range(vpn_mnist_config.num_timestamps):\n",
    "    img = data_sample_test_pred[0, image_index, :, :, 0]\n",
    "    plt.subplot(4, 5, image_index+1)\n",
    "    plt.imshow(img, cmap='gray')\n",
    "    plt.axis('off')"
   ]
  },
  {
   "cell_type": "code",
   "execution_count": null,
   "metadata": {},
   "outputs": [],
   "source": [
    "for image_index in range(data_generate.num_timestamps):\n",
    "    img = (data_sample_test_pred[0, image_index, :, :, 0]*255).astype(np.uint8)\n",
    "    np.putmask(img, img >= 12, 8)\n",
    "    img = decode_segmap(img)\n",
    "    plt.subplot(4, 5, image_index+1)\n",
    "    plt.imshow(img, cmap='gray')\n",
    "    plt.axis('off')"
   ]
  },
  {
   "cell_type": "code",
   "execution_count": null,
   "metadata": {},
   "outputs": [],
   "source": [
    "CamVidRoot = os.path.expanduser('~/Data/CamVid/')\n",
    "CamVidRootTrainAnnot = os.path.join(CamVidRoot, 'trainannot_48x36')\n",
    "CamVidRootTrainAnnotList = os.listdir(CamVidRootTrainAnnot)\n",
    "CamVidRootTrainAnnotListLen = len(CamVidRootTrainAnnotList)\n",
    "timestamps = data_generate.num_timestamps\n",
    "for CamVidRootTrainAnnotListIndex in range(CamVidRootTrainAnnotListLen-timestamps):\n",
    "#     print(CamVidRootTrainAnnotListIndex)\n",
    "    # 20 timestamps\n",
    "    moving_obj_data_sample = []\n",
    "    for timestamp in range(timestamps):\n",
    "        img = misc.imread(os.path.join(CamVidRootTrainAnnot, CamVidRootTrainAnnotList[CamVidRootTrainAnnotListIndex+timestamp]))\n",
    "        height, width = img.shape\n",
    "        mask_img_moving_mask = np.in1d(img, [8, 9]).reshape(height, width)\n",
    "        img_moving = mask_img_moving_mask * img\n",
    "#         plt.imshow(img_moving, cmap='gray')\n",
    "        \n",
    "        moving_obj_data_sample.append(img_moving)\n",
    "        \n",
    "    moving_obj_data_sample = np.array(moving_obj_data_sample)\n",
    "    moving_obj_data_sample = moving_obj_data_sample[np.newaxis, :, :, :]\n",
    "    moving_obj_data_sample = moving_obj_data_sample[:, :, :, :, np.newaxis]\n",
    "    moving_obj_data_sample = moving_obj_data_sample/255.0\n",
    "#     print('moving_obj_data_sample.shape:', moving_obj_data_sample.shape)\n",
    "    moving_obj_data_sample_pred = model.predict(moving_obj_data_sample)\n",
    "#     print('moving_obj_data_sample_pred.shape:', moving_obj_data_sample_pred.shape)\n",
    "    moving_obj_data_sample_pred_next_frame = moving_obj_data_sample_pred[0, -1, :, :, 0]\n",
    "    \n",
    "    plt.clf()\n",
    "    plt.subplot(121)\n",
    "    img = decode_segmap(img)\n",
    "    plt.imshow(img, cmap='gray')\n",
    "    plt.subplot(122)\n",
    "    plt.imshow(moving_obj_data_sample_pred_next_frame, cmap='hot')\n",
    "    plt.show()\n",
    "    time.sleep(1)\n",
    "    if CamVidRootTrainAnnotListIndex==10:\n",
    "        break"
   ]
  },
  {
   "cell_type": "code",
   "execution_count": null,
   "metadata": {},
   "outputs": [],
   "source": []
  }
 ],
 "metadata": {
  "kernelspec": {
   "display_name": "Python 2",
   "language": "python",
   "name": "python2"
  },
  "language_info": {
   "codemirror_mode": {
    "name": "ipython",
    "version": 2
   },
   "file_extension": ".py",
   "mimetype": "text/x-python",
   "name": "python",
   "nbconvert_exporter": "python",
   "pygments_lexer": "ipython2",
   "version": "2.7.6"
  }
 },
 "nbformat": 4,
 "nbformat_minor": 2
}
